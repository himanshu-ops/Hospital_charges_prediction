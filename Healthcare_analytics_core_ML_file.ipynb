{
 "cells": [
  {
   "cell_type": "markdown",
   "metadata": {},
   "source": [
    "## Heathcare Analytics Project\n",
    "\n",
    "**Developers:**\n",
    "1. Himanshu Bhavsar https://www.linkedin.com/in/himanshu-bhavsar/\n",
    "\n",
    "**Project title: Prediction of total charges for inpatient discharge from hospitals**\n",
    "\n",
    "## **Description:**\n",
    "\n",
    "According to statista.com the per capita healthcare expenditure for the United States is highest in the world. This number is almost double than the country with the second highest per capital expenditure. This is a cause for concern for most people who are living below powerty line and cannot afford proper healthcare services. By analyzing the cost for inpatient discharges for a single state we can see the factors that influence this cost and can be replicated for all other states in the country.\n",
    "\n",
    "## **Information about the dataset**:\n",
    "\n",
    "This dataset contains de-identified data for inpatient discharges from hospitals based in the state of New York obtained from Statewide Planning and Research Cooperative System (SPARCS). This file contains discharge level details on patient characteristics, diagnoses, treatments, services, and charges for each hospital inpatient stay and outpatient (ambulatory surgery, emergency department, and outpatient services) visit.\n",
    "This dataset contains 34 columns and 1 million rows detailing every aspect of patient discharge.\n",
    "\n",
    "## **Project steps and outcome**:\n",
    "\n",
    "I will be making a prediction model by analyzing the different features that influence the total cost and predicting the total cost for inpatient discharges.  I will also be making a web app that will demonstrate the working of this model by providing data and getting predictions in real time.\n",
    "\n",
    "We have followed the following steps for this project.\n",
    "\n",
    "1. Data Loading\n",
    "2. Data cleaning\n",
    "3. Exploratory Data Analysis\n",
    "4. Data preparation for model\n",
    "5. Model creation and training\n",
    "6. Model evaluation\n",
    "7. Final model extraction for web app."
   ]
  },
  {
   "cell_type": "markdown",
   "metadata": {},
   "source": [
    "## Loading required libraries"
   ]
  },
  {
   "cell_type": "code",
   "execution_count": 103,
   "metadata": {},
   "outputs": [],
   "source": [
    "#importing libraries\n",
    "import numpy as np \n",
    "import pandas as pd\n",
    "from sklearn.model_selection import train_test_split\n",
    "from sklearn.ensemble import RandomForestRegressor\n",
    "from pandas.api.types import is_string_dtype, is_object_dtype\n",
    "from pandas.api.types import is_categorical_dtype\n",
    "import matplotlib.pyplot as plt\n",
    "import seaborn as sns\n",
    "from joblib import dump,load\n",
    "from sklearn.metrics import mean_absolute_error, r2_score"
   ]
  },
  {
   "cell_type": "markdown",
   "metadata": {},
   "source": [
    "## Loading the dataset into a pandas dataframe"
   ]
  },
  {
   "cell_type": "code",
   "execution_count": 49,
   "metadata": {},
   "outputs": [],
   "source": [
    "#loading the dataset into a pandas dataframe\n",
    "data = pd.read_csv('data_2015.csv', low_memory=False) #as we have over a million rows we have turned off the low memory flag\n",
    "\n",
    "#printing the shape of the orignal dataset\n",
    "print(\"Shape of orignal data\", data.shape)\n",
    "\n",
    "print(\"\\n\")\n",
    "\n",
    "#printing the dataframe columns in transpose to get an idea about the data\n",
    "print(data.head(5).T)"
   ]
  },
  {
   "cell_type": "markdown",
   "metadata": {},
   "source": [
    "## Data cleaning and Exploratory data analysis"
   ]
  },
  {
   "cell_type": "code",
   "execution_count": 63,
   "metadata": {},
   "outputs": [
    {
     "name": "stdout",
     "output_type": "stream",
     "text": [
      "Health Service Area                 2328\n",
      "Hospital County                     2328\n",
      "Facility Id                         2328\n",
      "Age Group                              0\n",
      "Gender                                 0\n",
      "Race                                   0\n",
      "Ethnicity                              0\n",
      "Length of Stay                         0\n",
      "Type of Admission                      0\n",
      "Patient Disposition                    0\n",
      "CCS Diagnosis Code                     0\n",
      "CCS Procedure Code                     0\n",
      "APR DRG Code                           0\n",
      "APR MDC Code                           0\n",
      "APR Severity of Illness Code           0\n",
      "APR Risk of Mortality                 73\n",
      "APR Medical Surgical Description       0\n",
      "Payment Typology 1                     0\n",
      "Birth Weight                           0\n",
      "Total Charges                          0\n",
      "Total Costs                            0\n",
      "dtype: int64\n",
      "\n",
      "\n",
      "Shape of data after dropping NA rows (1046173, 21)\n",
      "Health Service Area                 [Western NY, Finger Lakes, Capital/Adirond, Ce...\n",
      "Hospital County                     [Allegany, Cattaraugus, Chautauqua, Erie, Niag...\n",
      "Facility Id                         [37.0, 39.0, 66.0, 114.0, 208.0, 210.0, 98.0, ...\n",
      "Age Group                           [70 or Older, 50 to 69, 30 to 49, 18 to 29, 0 ...\n",
      "Gender                                                                      [F, M, U]\n",
      "Race                                [White, Other Race, Black/African American, Mu...\n",
      "Ethnicity                           [Not Span/Hispanic, Unknown, Spanish/Hispanic,...\n",
      "Length of Stay                      [4, 2, 3, 5, 6, 12, 10, 8, 1, 9, 7, 11, 14, 15...\n",
      "Type of Admission                   [Urgent, Elective, Emergency, Newborn, Not Ava...\n",
      "Patient Disposition                 [Home or Self Care, Hosp Basd Medicare Approve...\n",
      "CCS Diagnosis Code                  [122, 55, 146, 127, 123, 2, 126, 197, 95, 125,...\n",
      "CCS Procedure Code                  [0, 202, 78, 134, 75, 222, 228, 137, 58, 85, 2...\n",
      "APR DRG Code                        [139, 422, 249, 244, 140, 137, 720, 113, 383, ...\n",
      "APR MDC Code                        [4, 10, 6, 18, 3, 9, 23, 11, 7, 5, 14, 8, 15, ...\n",
      "APR Severity of Illness Code                                             [2, 1, 3, 4]\n",
      "APR Risk of Mortality                               [Minor, Moderate, Major, Extreme]\n",
      "APR Medical Surgical Description                                  [Medical, Surgical]\n",
      "Payment Typology 1                  [Medicare, Medicaid, Private Health Insurance,...\n",
      "Birth Weight                        [0, 2800, 3500, 3300, 3200, 2600, 3600, 3400, ...\n",
      "Total Charges                       [5333.9, 4865.99, 5901.54, 3619.08, 3185.87, 5...\n",
      "Total Costs                         [4818.42, 4588.78, 5559.56, 3567.25, 3167.89, ...\n",
      "dtype: object\n"
     ]
    }
   ],
   "source": [
    "\n",
    "#during the initial testing phase we have identified the following columns that have very little effect on the accuracy. \n",
    "#hence removing such columns\n",
    "\n",
    "data1 = data.drop(['Operating Certificate Number','Facility Name',\n",
    "                'CCS Diagnosis Description','CCS Procedure Description',\n",
    "                'APR DRG Description','APR MDC Description', 'Discharge Year',\n",
    "                'APR Severity of Illness Description','Abortion Edit Indicator','Zip Code - 3 digits',\n",
    "                'Emergency Department Indicator','Payment Typology 2','Payment Typology 3'], axis=1)\n",
    "\n",
    "#checking for null values\n",
    "print(data1.isnull().sum())\n",
    "\n",
    "#dropping all the rows that contain null values\n",
    "data1 = data1.dropna()\n",
    "\n",
    "print(\"\\n\")\n",
    "\n",
    "print(\"Shape of data after dropping NA rows\", data1.shape)\n",
    "\n",
    "#printing the unique values from the dataframe columns\n",
    "print(data1.apply(lambda col: col.unique()))\n",
    "\n",
    "#changing the data type of column length of stay\n",
    "data1['Length of Stay'].replace({\"120 +\": \"120\"}, inplace=True)\n",
    "data1['Length of Stay'] = data1['Length of Stay'].astype(str).astype(int)"
   ]
  },
  {
   "cell_type": "code",
   "execution_count": 68,
   "metadata": {},
   "outputs": [
    {
     "data": {
      "text/plain": [
       "<seaborn.axisgrid.FacetGrid at 0x1283f55a0d0>"
      ]
     },
     "execution_count": 68,
     "metadata": {},
     "output_type": "execute_result"
    },
    {
     "data": {
      "image/png": "[encoded data removed]",
      "text/plain": [
       "<Figure size 360x360 with 1 Axes>"
      ]
     },
     "metadata": {
      "needs_background": "light"
     },
     "output_type": "display_data"
    },
    {
     "data": {
      "image/png": "[encoded data removed]",
      "text/plain": [
       "<Figure size 360x360 with 1 Axes>"
      ]
     },
     "metadata": {
      "needs_background": "light"
     },
     "output_type": "display_data"
    }
   ],
   "source": [
    "#checking the distribution of Length of stay\n",
    "\n",
    "a4_dims = (11.7, 8.27)\n",
    "fig, ax = plt.subplots(figsize=a4_dims)\n",
    "\n",
    "sns.displot(data1, x=\"Length of Stay\", kind=\"kde\")\n",
    "\n",
    "#checking the distribution of Birth weight\n",
    "sns.displot(data1, x=\"Birth Weight\", kind=\"kde\")"
   ]
  },
  {
   "cell_type": "code",
   "execution_count": 74,
   "metadata": {},
   "outputs": [
    {
     "data": {
      "text/plain": [
       "<AxesSubplot:xlabel='Age Group', ylabel='count'>"
      ]
     },
     "execution_count": 74,
     "metadata": {},
     "output_type": "execute_result"
    },
    {
     "data": {
      "image/png": "[encoded data removed]",
      "text/plain": [
       "<Figure size 842.4x595.44 with 1 Axes>"
      ]
     },
     "metadata": {},
     "output_type": "display_data"
    }
   ],
   "source": [
    "#plotting the distribution of age group\n",
    "a4_dims = (11.7, 8.27)\n",
    "fig, ax = plt.subplots(figsize=a4_dims)\n",
    "sns.countplot(ax=ax, x=\"Age Group\", palette=\"ch:.25\", data=data1)"
   ]
  },
  {
   "cell_type": "markdown",
   "metadata": {},
   "source": [
    "As we can see the majority patiens are from the 70 or older category followed by 50 to 69 years of age."
   ]
  },
  {
   "cell_type": "code",
   "execution_count": 91,
   "metadata": {},
   "outputs": [
    {
     "data": {
      "text/html": [
       "<div>\n",
       "<style scoped>\n",
       "    .dataframe tbody tr th:only-of-type {\n",
       "        vertical-align: middle;\n",
       "    }\n",
       "\n",
       "    .dataframe tbody tr th {\n",
       "        vertical-align: top;\n",
       "    }\n",
       "\n",
       "    .dataframe thead th {\n",
       "        text-align: right;\n",
       "    }\n",
       "</style>\n",
       "<table border=\"1\" class=\"dataframe\">\n",
       "  <thead>\n",
       "    <tr style=\"text-align: right;\">\n",
       "      <th></th>\n",
       "      <th>Hospital County</th>\n",
       "      <th>Age Group</th>\n",
       "      <th>Gender</th>\n",
       "      <th>Length of Stay</th>\n",
       "      <th>Type of Admission</th>\n",
       "      <th>Payment Typology 1</th>\n",
       "      <th>Total Charges</th>\n",
       "      <th>Total Costs</th>\n",
       "    </tr>\n",
       "  </thead>\n",
       "  <tbody>\n",
       "    <tr>\n",
       "      <th>0</th>\n",
       "      <td>Allegany</td>\n",
       "      <td>70 or Older</td>\n",
       "      <td>F</td>\n",
       "      <td>4</td>\n",
       "      <td>Urgent</td>\n",
       "      <td>Medicare</td>\n",
       "      <td>5333.90</td>\n",
       "      <td>4818.42</td>\n",
       "    </tr>\n",
       "    <tr>\n",
       "      <th>1</th>\n",
       "      <td>Allegany</td>\n",
       "      <td>70 or Older</td>\n",
       "      <td>F</td>\n",
       "      <td>4</td>\n",
       "      <td>Elective</td>\n",
       "      <td>Medicare</td>\n",
       "      <td>4865.99</td>\n",
       "      <td>4588.78</td>\n",
       "    </tr>\n",
       "    <tr>\n",
       "      <th>2</th>\n",
       "      <td>Allegany</td>\n",
       "      <td>70 or Older</td>\n",
       "      <td>F</td>\n",
       "      <td>4</td>\n",
       "      <td>Urgent</td>\n",
       "      <td>Medicare</td>\n",
       "      <td>5901.54</td>\n",
       "      <td>5559.56</td>\n",
       "    </tr>\n",
       "    <tr>\n",
       "      <th>3</th>\n",
       "      <td>Allegany</td>\n",
       "      <td>50 to 69</td>\n",
       "      <td>F</td>\n",
       "      <td>2</td>\n",
       "      <td>Elective</td>\n",
       "      <td>Medicare</td>\n",
       "      <td>3619.08</td>\n",
       "      <td>3567.25</td>\n",
       "    </tr>\n",
       "    <tr>\n",
       "      <th>4</th>\n",
       "      <td>Allegany</td>\n",
       "      <td>70 or Older</td>\n",
       "      <td>M</td>\n",
       "      <td>2</td>\n",
       "      <td>Elective</td>\n",
       "      <td>Medicare</td>\n",
       "      <td>3185.87</td>\n",
       "      <td>3167.89</td>\n",
       "    </tr>\n",
       "  </tbody>\n",
       "</table>\n",
       "</div>"
      ],
      "text/plain": [
       "  Hospital County    Age Group Gender  Length of Stay Type of Admission  \\\n",
       "0        Allegany  70 or Older      F               4            Urgent   \n",
       "1        Allegany  70 or Older      F               4          Elective   \n",
       "2        Allegany  70 or Older      F               4            Urgent   \n",
       "3        Allegany     50 to 69      F               2          Elective   \n",
       "4        Allegany  70 or Older      M               2          Elective   \n",
       "\n",
       "  Payment Typology 1  Total Charges  Total Costs  \n",
       "0           Medicare        5333.90      4818.42  \n",
       "1           Medicare        4865.99      4588.78  \n",
       "2           Medicare        5901.54      5559.56  \n",
       "3           Medicare        3619.08      3567.25  \n",
       "4           Medicare        3185.87      3167.89  "
      ]
     },
     "execution_count": 91,
     "metadata": {},
     "output_type": "execute_result"
    }
   ],
   "source": [
    "#upon futher inspection it was found that only the following columns have significant inpact on the model accuracy.\n",
    "\n",
    "#storing these columns in a new dataframe\n",
    "data_new = data1[['Hospital County','Age Group','Gender','Length of Stay','Type of Admission','Payment Typology 1','Total Charges','Total Costs']]\n",
    "\n",
    "#our final dataset looks like this\n",
    "data_new.head()"
   ]
  },
  {
   "cell_type": "markdown",
   "metadata": {},
   "source": [
    "## Data processing for the model\n",
    "\n"
   ]
  },
  {
   "cell_type": "code",
   "execution_count": 92,
   "metadata": {},
   "outputs": [
    {
     "name": "stdout",
     "output_type": "stream",
     "text": [
      "<class 'pandas.core.frame.DataFrame'>\n",
      "Int64Index: 1046173 entries, 0 to 1048573\n",
      "Data columns (total 8 columns):\n",
      " #   Column          Non-Null Count    Dtype  \n",
      "---  ------          --------------    -----  \n",
      " 0   hospitalcounty  1046173 non-null  int8   \n",
      " 1   agegroup        1046173 non-null  int8   \n",
      " 2   gender          1046173 non-null  int8   \n",
      " 3   lengthofstay    1046173 non-null  int32  \n",
      " 4   admissiontype   1046173 non-null  int8   \n",
      " 5   paymentmethod   1046173 non-null  int8   \n",
      " 6   totalcharges    1046173 non-null  float64\n",
      " 7   totalcosts      1046173 non-null  float64\n",
      "dtypes: float64(2), int32(1), int8(5)\n",
      "memory usage: 65.2 MB\n",
      "None\n",
      "\n",
      "\n",
      "Shape of training inputs (732321, 7)\n",
      "Shape of training labels (732321,)\n",
      "Shape of testing data (313852, 7)\n",
      "Shape of testing labels (313852,)\n"
     ]
    }
   ],
   "source": [
    "import warnings\n",
    "warnings.filterwarnings(\"ignore\")\n",
    "\n",
    "# Functions to convert non-numeric to numeric - 1\n",
    "def wkng_data1_string_to_cat(wkng_data1):\n",
    "    for col in wkng_data1.columns:\n",
    "        if is_string_dtype(wkng_data1[col]) or is_object_dtype(wkng_data1[col]):\n",
    "            wkng_data1[col] = wkng_data1[col].astype('category').cat.as_ordered()\n",
    "\n",
    "# Functions to convert non-numeric to numeric - 2\n",
    "def wkng_data1_cat_to_catcode(wkng_data1):\n",
    "    for col in wkng_data1.columns:\n",
    "        if is_categorical_dtype(wkng_data1[col]):\n",
    "            wkng_data1[col] = wkng_data1[col].cat.codes + 1\n",
    "\n",
    "#applying functions on the dataset\n",
    "wkng_data1_string_to_cat(data_new)\n",
    "\n",
    "wkng_data1_cat_to_catcode(data_new)\n",
    "\n",
    "#data1 = data1.head(40000)\n",
    "\n",
    "#renaming columns for simplicity\n",
    "data_new = data_new.rename(columns={\"Hospital County\": \"hospitalcounty\", \n",
    "                              \"Age Group\": \"agegroup\", \n",
    "                              \"Gender\": \"gender\",\n",
    "                              \"Length of Stay\": \"lengthofstay\",\n",
    "                              \"Type of Admission\": \"admissiontype\",\n",
    "                              \"Payment Typology 1\": \"paymentmethod\",\n",
    "                              \"Total Charges\": \"totalcharges\",\n",
    "                              \"Total Costs\": \"totalcosts\"}, errors=\"raise\")\n",
    "\n",
    "#verifying that the rename worked sucessfully\n",
    "print(data_new.info())\n",
    "\n",
    "print(\"\\n\")\n",
    "\n",
    "#labels are the values that we want to predict\n",
    "labels = np.array(data_new['totalcharges'])\n",
    "\n",
    "#removing labels from features\n",
    "inputs = data_new.drop('totalcharges', axis = 1)\n",
    "\n",
    "#saving cols name for future use\n",
    "cols_list = list(data_new.columns)\n",
    "\n",
    "#converting to numpy array\n",
    "inputs = np.array(inputs)\n",
    "\n",
    "#splitting the data into train and test sets for model training with test size 30% of the total data.\n",
    "train_x, test_x, train_y, test_y = train_test_split(inputs, labels, test_size = 0.30, random_state = 9)\n",
    "\n",
    "print(\"Shape of training inputs\", train_x.shape)\n",
    "print(\"Shape of training labels\",train_y.shape)\n",
    "print(\"Shape of testing data\",test_x.shape)\n",
    "print(\"Shape of testing labels\",test_y.shape)"
   ]
  },
  {
   "cell_type": "code",
   "execution_count": 94,
   "metadata": {},
   "outputs": [],
   "source": [
    "#saving the test files for further use\n",
    "np.savetxt(\"test_x.csv\", test_x, delimiter=\",\")\n",
    "np.savetxt(\"test_y.csv\", test_y, delimiter=\",\")"
   ]
  },
  {
   "cell_type": "markdown",
   "metadata": {},
   "source": [
    "## Creating the model and evaluating"
   ]
  },
  {
   "cell_type": "code",
   "execution_count": 95,
   "metadata": {},
   "outputs": [
    {
     "name": "stdout",
     "output_type": "stream",
     "text": [
      " 0.926660"
     ]
    }
   ],
   "source": [
    "#initializing the model\n",
    "model = RandomForestRegressor(n_estimators = 200, #using RandomForestRegressor with n_estimator 200 and metric=oob_score \n",
    "                              oob_score=True, \n",
    "                              n_jobs = -1, \n",
    "                              random_state = 9)\n",
    "\n",
    "model.fit(train_x, train_y) #fitting the model on training data\n",
    "oob_score = model.oob_score_  #obtaining the oob score\n",
    "print(f\" {oob_score:f}\", end='') #printing the oob score"
   ]
  },
  {
   "cell_type": "code",
   "execution_count": 101,
   "metadata": {},
   "outputs": [
    {
     "name": "stdout",
     "output_type": "stream",
     "text": [
      "Printing top 4 values from the predictions: [ 19671.62745  30791.9516   19250.45665 149304.76575]\n",
      "\n",
      "\n",
      "Printing top 5 values fromt the test labels [ 23973.53  31344.62  18988.1  154776.05]\n",
      "\n",
      "\n"
     ]
    }
   ],
   "source": [
    "#using the .predict method on the model to get predictions from the test data\n",
    "pred = model.predict(test_x)\n",
    "\n",
    "#comparing predicted and actual values\n",
    "print(\"Printing top 4 values from the predictions:\", pred[0:4])\n",
    "\n",
    "print(\"\\n\")\n",
    "\n",
    "print(\"Printing top 5 values fromt the test labels\", test_y[0:4])"
   ]
  },
  {
   "cell_type": "code",
   "execution_count": 104,
   "metadata": {},
   "outputs": [
    {
     "name": "stdout",
     "output_type": "stream",
     "text": [
      "Train r2 scores: \n",
      " [0.99]\n",
      "\n",
      "Test r2 scores: \n",
      " [0.923]\n",
      "\n",
      "Train MAE scores: \n",
      " [2140.0]\n",
      "\n",
      "Test MAE scores: \n",
      " [5892.0]\n",
      "\n",
      "oob_scores: \n",
      " [0.9267]\n"
     ]
    }
   ],
   "source": [
    "#creating emptly list for storing final metrics\n",
    "train_r2 = []\n",
    "train_mae = []\n",
    "test_r2 = []\n",
    "test_mae = []\n",
    "oob_scores = []\n",
    "  \n",
    "#applying predict function on the train data\n",
    "train_preds = model.predict(train_x)\n",
    "    \n",
    "#getting the r2 score\n",
    "train_r2.append(round(r2_score(train_y, train_preds), 4))\n",
    "test_r2.append(round(r2_score(test_y, pred), 4))\n",
    "\n",
    "#getting the Mean absolute error\n",
    "train_mae.append(round(mean_absolute_error(train_y, train_preds), 0))\n",
    "test_mae.append(round(mean_absolute_error(test_y, pred), 0))\n",
    "\n",
    "#getting the oob score\n",
    "oob_scores.append(round(model.oob_score_, 4))\n",
    "\n",
    "#printing everything\n",
    "print(\"Train r2 scores: \\n\", train_r2)\n",
    "print(\"\")\n",
    "print(\"Test r2 scores: \\n\", test_r2)\n",
    "print(\"\")\n",
    "print(\"Train MAE scores: \\n\", train_mae)\n",
    "print(\"\")\n",
    "print(\"Test MAE scores: \\n\", test_mae)\n",
    "print(\"\")\n",
    "print(\"oob_scores: \\n\", oob_scores)"
   ]
  },
  {
   "cell_type": "markdown",
   "metadata": {},
   "source": [
    "## Saving the model file for web api processing"
   ]
  },
  {
   "cell_type": "code",
   "execution_count": 96,
   "metadata": {},
   "outputs": [
    {
     "data": {
      "text/plain": [
       "['modelpredictorengine.joblib']"
      ]
     },
     "execution_count": 96,
     "metadata": {},
     "output_type": "execute_result"
    }
   ],
   "source": [
    "#using dump from the joblib library, saving the model in .joblib format for further use\n",
    "dump(model,'modelpredictorengine.joblib')"
   ]
  }
 ],
 "metadata": {
  "interpreter": {
   "hash": "c3af1bc35307bc85f6a5b95f23408065a5a3aa00269f602a8b43732264c61903"
  },
  "kernelspec": {
   "display_name": "Python 3.8.8 64-bit ('DAB300': conda)",
   "language": "python",
   "name": "python3"
  },
  "language_info": {
   "codemirror_mode": {
    "name": "ipython",
    "version": 3
   },
   "file_extension": ".py",
   "mimetype": "text/x-python",
   "name": "python",
   "nbconvert_exporter": "python",
   "pygments_lexer": "ipython3",
   "version": "3.8.8"
  },
  "orig_nbformat": 4
 },
 "nbformat": 4,
 "nbformat_minor": 2
}

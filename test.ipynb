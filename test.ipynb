{
 "cells": [
  {
   "cell_type": "code",
   "execution_count": 58,
   "metadata": {},
   "outputs": [
    {
     "data": {
      "text/plain": [
       "['Medicare',\n",
       " 'Medicaid',\n",
       " 'Private Health Insurance',\n",
       " 'Blue Cross/Blue Shield',\n",
       " 'Self-Pay',\n",
       " 'Miscellaneous/Other',\n",
       " 'Federal/State/Local/VA',\n",
       " 'Department of Corrections',\n",
       " 'Managed Care, Unspecified',\n",
       " 'Unknown']"
      ]
     },
     "execution_count": 58,
     "metadata": {},
     "output_type": "execute_result"
    }
   ],
   "source": [
    "import pandas as pd\n",
    "import numpy as np\n",
    "\n",
    "\n",
    "f = open(\"list5.txt\", \"r\")\n",
    "file = f.readlines()\n",
    "    \n",
    "list5 = []\n",
    "for i in file:\n",
    "    list5.append(i.strip())\n",
    "\n",
    "list5\n"
   ]
  },
  {
   "cell_type": "code",
   "execution_count": null,
   "metadata": {},
   "outputs": [],
   "source": []
  }
 ],
 "metadata": {
  "interpreter": {
   "hash": "c3af1bc35307bc85f6a5b95f23408065a5a3aa00269f602a8b43732264c61903"
  },
  "kernelspec": {
   "display_name": "Python 3.8.8 64-bit ('DAB300': conda)",
   "language": "python",
   "name": "python3"
  },
  "language_info": {
   "name": "python",
   "version": "3.8.8"
  },
  "orig_nbformat": 4
 },
 "nbformat": 4,
 "nbformat_minor": 2
}
